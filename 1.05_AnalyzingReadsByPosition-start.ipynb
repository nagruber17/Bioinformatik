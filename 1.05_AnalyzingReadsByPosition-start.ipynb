{
  "nbformat": 4,
  "nbformat_minor": 0,
  "metadata": {
    "kernelspec": {
      "display_name": "Python 3",
      "language": "python",
      "name": "python3"
    },
    "language_info": {
      "codemirror_mode": {
        "name": "ipython",
        "version": 3
      },
      "file_extension": ".py",
      "mimetype": "text/x-python",
      "name": "python",
      "nbconvert_exporter": "python",
      "pygments_lexer": "ipython3",
      "version": "3.5.4"
    },
    "colab": {
      "name": "1.05_AnalyzingReadsByPosition-start.ipynb",
      "provenance": []
    }
  },
  "cells": [
    {
      "cell_type": "code",
      "metadata": {
        "collapsed": true,
        "id": "0G610jdN5YML"
      },
      "source": [
        "# On Unix you could use wget to download the fasta file (just uncomment the following line)\n",
        "# !wget http://d28rh4a8wq0iu5.cloudfront.net/ads1/data/SRR835775_1.first1000.fastq\n",
        "\n",
        "# On Windows you have to download the file manually into your working directory"
      ],
      "execution_count": 1,
      "outputs": []
    },
    {
      "cell_type": "code",
      "metadata": {
        "collapsed": true,
        "id": "WtDV_aHh5YMM"
      },
      "source": [
        "def readFastq(filename):\n",
        "    sequences = []\n",
        "    qualities = []\n",
        "    # insert your readFastq function code!\n",
        "    return sequences, qualities\n",
        "seqs, quals = readFastq('SRR835775_1.first1000.fastq')"
      ],
      "execution_count": 2,
      "outputs": []
    },
    {
      "cell_type": "code",
      "metadata": {
        "id": "xEAnGwjs5YMM",
        "outputId": "ec6b20db-f56c-40f6-b497-8c48dc4eca06",
        "colab": {
          "base_uri": "https://localhost:8080/"
        }
      },
      "source": [
        "print(quals)"
      ],
      "execution_count": 3,
      "outputs": [
        {
          "output_type": "stream",
          "name": "stdout",
          "text": [
            "[]\n"
          ]
        }
      ]
    },
    {
      "cell_type": "code",
      "metadata": {
        "collapsed": true,
        "id": "97vopIq25YMN"
      },
      "source": [
        "def phred33ToQ(qual):\n",
        "    return ord(qual) - 33"
      ],
      "execution_count": 4,
      "outputs": []
    },
    {
      "cell_type": "code",
      "metadata": {
        "id": "UHTt--Jn5YMO",
        "outputId": "82740b89-4652-4cf6-82cd-4dac7763b183",
        "colab": {
          "base_uri": "https://localhost:8080/"
        }
      },
      "source": [
        "def createHist(qualities):\n",
        "    # inser your createHist function\n",
        "    hist = [0]*50\n",
        "    for qual in qualities:\n",
        "        for phred in qual:\n",
        "            q = phred33ToQ(phred)\n",
        "            hist[q] += 1\n",
        "    return hist\n",
        "h = createHist(quals)\n",
        "print(h)"
      ],
      "execution_count": 6,
      "outputs": [
        {
          "output_type": "stream",
          "name": "stdout",
          "text": [
            "[0, 0, 0, 0, 0, 0, 0, 0, 0, 0, 0, 0, 0, 0, 0, 0, 0, 0, 0, 0, 0, 0, 0, 0, 0, 0, 0, 0, 0, 0, 0, 0, 0, 0, 0, 0, 0, 0, 0, 0, 0, 0, 0, 0, 0, 0, 0, 0, 0, 0]\n"
          ]
        }
      ]
    },
    {
      "cell_type": "code",
      "metadata": {
        "id": "lsY-mAFi5YMO",
        "outputId": "c4cc2cca-d601-4ec2-bae4-4b399dce3fbf",
        "colab": {
          "base_uri": "https://localhost:8080/",
          "height": 265
        }
      },
      "source": [
        "# Plot the histogram\n",
        "%matplotlib inline\n",
        "import matplotlib.pyplot as plt\n",
        "plt.bar(range(len(h)), h)\n",
        "plt.show()"
      ],
      "execution_count": 7,
      "outputs": [
        {
          "output_type": "display_data",
          "data": {
            "image/png": "[encoded data removed]",
            "text/plain": [
              "<Figure size 432x288 with 1 Axes>"
            ]
          },
          "metadata": {
            "needs_background": "light"
          }
        }
      ]
    },
    {
      "cell_type": "code",
      "metadata": {
        "id": "tO5X2HYS5YMO",
        "outputId": "79e2aa99-cceb-42dd-b380-01ddd5b830dc",
        "colab": {
          "base_uri": "https://localhost:8080/",
          "height": 133
        }
      },
      "source": [
        "def findGCByPos(reads):\n",
        "    \"\"\" Find the GC ratio at each position in the read\n",
        "        Calculates a movinger GC percentage level\n",
        "        param reads: list of dna-reads\n",
        "        return: list of moving gc percentages\n",
        "    \"\"\"\n",
        "    # Keep track of the number of G/C bases and the total number of bases at each position\n",
        "    gc = [0] * 100\n",
        "    totals = [0] * 100\n",
        "    for read in reads:\n",
        "        # todo insert code\n",
        "    \n",
        "    # Divide G/C counts by total counts to get the average at each position\n",
        "    for i in range(len(gc)):\n",
        "        if totals[i] > 0:\n",
        "            gc[i] /= float(totals[i])\n",
        "    return gc\n",
        "\n",
        "gc = findGCByPos(seqs)\n",
        "plt.plot(range(len(gc)), gc)\n",
        "plt.show()"
      ],
      "execution_count": 9,
      "outputs": [
        {
          "output_type": "error",
          "ename": "IndentationError",
          "evalue": "ignored",
          "traceback": [
            "\u001b[0;36m  File \u001b[0;32m\"<ipython-input-9-ef5b19a2f65a>\"\u001b[0;36m, line \u001b[0;32m14\u001b[0m\n\u001b[0;31m    for i in range(len(gc)):\u001b[0m\n\u001b[0m      ^\u001b[0m\n\u001b[0;31mIndentationError\u001b[0m\u001b[0;31m:\u001b[0m expected an indented block\n"
          ]
        }
      ]
    },
    {
      "cell_type": "code",
      "metadata": {
        "id": "unJb-s925YMP",
        "outputId": "f91343ae-e83b-4e18-af27-19405d58c87f",
        "colab": {
          "base_uri": "https://localhost:8080/"
        }
      },
      "source": [
        "import collections\n",
        "count = collections.Counter()\n",
        "for seq in seqs:\n",
        "    count.update(seq)\n",
        "count"
      ],
      "execution_count": 10,
      "outputs": [
        {
          "output_type": "execute_result",
          "data": {
            "text/plain": [
              "Counter()"
            ]
          },
          "metadata": {},
          "execution_count": 10
        }
      ]
    },
    {
      "cell_type": "code",
      "metadata": {
        "id": "tMRjuM9M5YMP",
        "outputId": "ca848014-963a-471c-e209-d6ce6cdc6f5d",
        "colab": {
          "base_uri": "https://localhost:8080/",
          "height": 239
        }
      },
      "source": [
        "import pickle as pkl\n",
        "with open('1.05.vars.pkl', 'rb') as f:\n",
        "    _seqs, _quals  = pkl.load(f)\n",
        "    \n",
        "with open('1.05.vars2.pkl', 'rb') as f:\n",
        "    _gc, _count  = pkl.load(f)\n",
        "    \n",
        "import unittest\n",
        "class TestNotebook(unittest.TestCase):    \n",
        "    def test_notebook(self):        \n",
        "        self.assertEqual(h, [0, 0, 6178, 0, 0, 54, 108, 574, 345, 83, 193, 124, 79, 165, 49, 236, 184, 327, 514, 238, 531, 254, 313, 798, 992, 888, 1396, 1488, 993, 1752, 3387, 4487, 3248, 5476, 8375, 11814, 4243, 7827, 6579, 8179, 9349, 8180, 0, 0, 0, 0, 0, 0, 0, 0])\n",
        "        self.assertEqual((_seqs, _quals), readFastq('SRR835775_1.first1000.fastq'))\n",
        "        self.assertEqual(_gc, gc)\n",
        "        self.assertEqual(_count, count)\n",
        "unittest.main(argv=[''], verbosity=2, exit=False)"
      ],
      "execution_count": 11,
      "outputs": [
        {
          "output_type": "error",
          "ename": "FileNotFoundError",
          "evalue": "ignored",
          "traceback": [
            "\u001b[0;31m---------------------------------------------------------------------------\u001b[0m",
            "\u001b[0;31mFileNotFoundError\u001b[0m                         Traceback (most recent call last)",
            "\u001b[0;32m<ipython-input-11-3ca3c55089a2>\u001b[0m in \u001b[0;36m<module>\u001b[0;34m()\u001b[0m\n\u001b[1;32m      1\u001b[0m \u001b[0;32mimport\u001b[0m \u001b[0mpickle\u001b[0m \u001b[0;32mas\u001b[0m \u001b[0mpkl\u001b[0m\u001b[0;34m\u001b[0m\u001b[0;34m\u001b[0m\u001b[0m\n\u001b[0;32m----> 2\u001b[0;31m \u001b[0;32mwith\u001b[0m \u001b[0mopen\u001b[0m\u001b[0;34m(\u001b[0m\u001b[0;34m'1.05.vars.pkl'\u001b[0m\u001b[0;34m,\u001b[0m \u001b[0;34m'rb'\u001b[0m\u001b[0;34m)\u001b[0m \u001b[0;32mas\u001b[0m \u001b[0mf\u001b[0m\u001b[0;34m:\u001b[0m\u001b[0;34m\u001b[0m\u001b[0;34m\u001b[0m\u001b[0m\n\u001b[0m\u001b[1;32m      3\u001b[0m     \u001b[0m_seqs\u001b[0m\u001b[0;34m,\u001b[0m \u001b[0m_quals\u001b[0m  \u001b[0;34m=\u001b[0m \u001b[0mpkl\u001b[0m\u001b[0;34m.\u001b[0m\u001b[0mload\u001b[0m\u001b[0;34m(\u001b[0m\u001b[0mf\u001b[0m\u001b[0;34m)\u001b[0m\u001b[0;34m\u001b[0m\u001b[0;34m\u001b[0m\u001b[0m\n\u001b[1;32m      4\u001b[0m \u001b[0;34m\u001b[0m\u001b[0m\n\u001b[1;32m      5\u001b[0m \u001b[0;32mwith\u001b[0m \u001b[0mopen\u001b[0m\u001b[0;34m(\u001b[0m\u001b[0;34m'1.05.vars2.pkl'\u001b[0m\u001b[0;34m,\u001b[0m \u001b[0;34m'rb'\u001b[0m\u001b[0;34m)\u001b[0m \u001b[0;32mas\u001b[0m \u001b[0mf\u001b[0m\u001b[0;34m:\u001b[0m\u001b[0;34m\u001b[0m\u001b[0;34m\u001b[0m\u001b[0m\n",
            "\u001b[0;31mFileNotFoundError\u001b[0m: [Errno 2] No such file or directory: '1.05.vars.pkl'"
          ]
        }
      ]
    }
  ]
}