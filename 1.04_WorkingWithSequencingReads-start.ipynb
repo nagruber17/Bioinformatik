{
  "nbformat": 4,
  "nbformat_minor": 0,
  "metadata": {
    "anaconda-cloud": {},
    "kernelspec": {
      "display_name": "Python 2",
      "language": "python",
      "name": "python2"
    },
    "language_info": {
      "codemirror_mode": {
        "name": "ipython",
        "version": 2
      },
      "file_extension": ".py",
      "mimetype": "text/x-python",
      "name": "python",
      "nbconvert_exporter": "python",
      "pygments_lexer": "ipython2",
      "version": "2.7.12"
    },
    "colab": {
      "name": "1.04_WorkingWithSequencingReads-start.ipynb",
      "provenance": []
    }
  },
  "cells": [
    {
      "cell_type": "code",
      "metadata": {
        "scrolled": false,
        "id": "RB5YO7Tx5WN3",
        "outputId": "4e7ff45d-2a97-4945-9137-9ba6aabf3392",
        "colab": {
          "base_uri": "https://localhost:8080/"
        }
      },
      "source": [
        "# On Unix you could use wget to download the fasta file (just uncomment the following line)\n",
        "!wget http://d28rh4a8wq0iu5.cloudfront.net/ads1/data/SRR835775_1.first1000.fastq\n",
        "\n",
        "# On Windows you have to download the file manually into your working directory"
      ],
      "execution_count": 1,
      "outputs": [
        {
          "output_type": "stream",
          "name": "stdout",
          "text": [
            "--2021-11-23 08:27:23--  http://d28rh4a8wq0iu5.cloudfront.net/ads1/data/SRR835775_1.first1000.fastq\n",
            "Resolving d28rh4a8wq0iu5.cloudfront.net (d28rh4a8wq0iu5.cloudfront.net)... 54.192.19.127, 54.192.19.199, 54.192.19.137, ...\n",
            "Connecting to d28rh4a8wq0iu5.cloudfront.net (d28rh4a8wq0iu5.cloudfront.net)|54.192.19.127|:80... connected.\n",
            "HTTP request sent, awaiting response... 200 OK\n",
            "Length: 224786 (220K) [application/octet-stream]\n",
            "Saving to: ‘SRR835775_1.first1000.fastq’\n",
            "\n",
            "SRR835775_1.first10 100%[===================>] 219.52K   323KB/s    in 0.7s    \n",
            "\n",
            "2021-11-23 08:27:25 (323 KB/s) - ‘SRR835775_1.first1000.fastq’ saved [224786/224786]\n",
            "\n"
          ]
        }
      ]
    },
    {
      "cell_type": "code",
      "metadata": {
        "collapsed": true,
        "id": "xkl99CyI5WN7"
      },
      "source": [
        "def readFastq(filename):\n",
        "    \"\"\" Reads a fastq file and returns a list of sequences and a list of qualities \n",
        "        param filename: valid filename\n",
        "        return sequences, qualities\n",
        "    \"\"\"\n",
        "    sequences = []\n",
        "    qualities = []\n",
        "    with open(filename) as fh:\n",
        "        # your code goes here\n",
        "         while True:\n",
        "            fh.readline() # skip name line\n",
        "            seq = fh.readline().rstrip() # read base sequence\n",
        "            fh.readline() # skip placeholder line\n",
        "            qual = fh.readline().rstrip() #base quality line\n",
        "            if len(seq) == 0:\n",
        "                break\n",
        "            sequences.append(seq)\n",
        "            qualities.append(qual)\n",
        "    return sequences, qualities\n",
        "seqs, quals = readFastq('SRR835775_1.first1000.fastq')"
      ],
      "execution_count": 3,
      "outputs": []
    },
    {
      "cell_type": "code",
      "metadata": {
        "collapsed": true,
        "id": "zx92T4wu5WN8"
      },
      "source": [
        "def phred33ToQ(qual):\n",
        "    \"\"\" Converts quality to int\n",
        "    \"\"\"\n",
        "    return ord(qual) - 33"
      ],
      "execution_count": 5,
      "outputs": []
    },
    {
      "cell_type": "code",
      "metadata": {
        "id": "MZQru7tU5WN8",
        "outputId": "9138f828-3ec7-4577-da67-d6c510f406ca",
        "colab": {
          "base_uri": "https://localhost:8080/"
        }
      },
      "source": [
        "def createHist(qualityStrings):\n",
        "    \"\"\" Creates a historgram of qualities \n",
        "        param qualityStrings: list of qualities\n",
        "        return: numbers of occurences of each quality\"\"\"\n",
        "    # Create a histogram of quality scores (max of 50)\n",
        "    hist = [0]*50\n",
        "    # your code here\n",
        "    return hist\n",
        "h = createHist(quals)\n",
        "print(h)"
      ],
      "execution_count": 4,
      "outputs": [
        {
          "output_type": "stream",
          "name": "stdout",
          "text": [
            "[0, 0, 0, 0, 0, 0, 0, 0, 0, 0, 0, 0, 0, 0, 0, 0, 0, 0, 0, 0, 0, 0, 0, 0, 0, 0, 0, 0, 0, 0, 0, 0, 0, 0, 0, 0, 0, 0, 0, 0, 0, 0, 0, 0, 0, 0, 0, 0, 0, 0]\n"
          ]
        }
      ]
    },
    {
      "cell_type": "code",
      "metadata": {
        "scrolled": true,
        "id": "15nol7WL5WN9",
        "outputId": "339b57b7-7d43-435b-b547-849e88116252",
        "colab": {
          "base_uri": "https://localhost:8080/",
          "height": 265
        }
      },
      "source": [
        "# Plot the histogram\n",
        "%matplotlib inline\n",
        "import matplotlib.pyplot as plt\n",
        "plt.bar(range(len(h)), h)\n",
        "plt.show()"
      ],
      "execution_count": 6,
      "outputs": [
        {
          "output_type": "display_data",
          "data": {
            "image/png": "[encoded data removed]",
            "text/plain": [
              "<Figure size 432x288 with 1 Axes>"
            ]
          },
          "metadata": {
            "needs_background": "light"
          }
        }
      ]
    },
    {
      "cell_type": "code",
      "metadata": {
        "collapsed": true,
        "id": "eJvPdnf65WN9",
        "outputId": "5052c981-723b-4780-c933-cfdbe360e937",
        "colab": {
          "base_uri": "https://localhost:8080/"
        }
      },
      "source": [
        "import unittest\n",
        "class TestNotebook(unittest.TestCase):    \n",
        "    def test_notebook(self):\n",
        "        self.assertEquals(h, [0, 0, 6178, 0, 0, 54, 108, 574, 345, 83, 193, 124, 79, 165, 49, 236, 184, 327, 514, 238, 531, 254, 313, 798, 992, 888, 1396, 1488, 993, 1752, 3387, 4487, 3248, 5476, 8375, 11814, 4243, 7827, 6579, 8179, 9349, 8180, 0, 0, 0, 0, 0, 0, 0, 0])\n",
        "        \n",
        "        \n",
        "unittest.main(argv=[''], verbosity=2, exit=False)"
      ],
      "execution_count": 7,
      "outputs": [
        {
          "output_type": "stream",
          "name": "stderr",
          "text": [
            "test_notebook (__main__.TestNotebook) ... /usr/local/lib/python3.7/dist-packages/ipykernel_launcher.py:4: DeprecationWarning: Please use assertEqual instead.\n",
            "  after removing the cwd from sys.path.\n",
            "FAIL\n",
            "\n",
            "======================================================================\n",
            "FAIL: test_notebook (__main__.TestNotebook)\n",
            "----------------------------------------------------------------------\n",
            "Traceback (most recent call last):\n",
            "  File \"<ipython-input-7-5eeaeb235b53>\", line 4, in test_notebook\n",
            "    self.assertEquals(h, [0, 0, 6178, 0, 0, 54, 108, 574, 345, 83, 193, 124, 79, 165, 49, 236, 184, 327, 514, 238, 531, 254, 313, 798, 992, 888, 1396, 1488, 993, 1752, 3387, 4487, 3248, 5476, 8375, 11814, 4243, 7827, 6579, 8179, 9349, 8180, 0, 0, 0, 0, 0, 0, 0, 0])\n",
            "AssertionError: Lists differ: [0, 0, 0, 0, 0, 0, 0, 0, 0, 0, 0, 0, 0, 0, 0, 0,[97 chars]0, 0] != [0, 0, 6178, 0, 0, 54, 108, 574, 345, 83, 193, 1[186 chars]0, 0]\n",
            "\n",
            "First differing element 2:\n",
            "0\n",
            "6178\n",
            "\n",
            "  [0,\n",
            "   0,\n",
            "+  6178,\n",
            "   0,\n",
            "   0,\n",
            "+  54,\n",
            "-  0,\n",
            "+  108,\n",
            "?  + +\n",
            "\n",
            "+  574,\n",
            "+  345,\n",
            "+  83,\n",
            "+  193,\n",
            "+  124,\n",
            "+  79,\n",
            "+  165,\n",
            "+  49,\n",
            "+  236,\n",
            "+  184,\n",
            "+  327,\n",
            "+  514,\n",
            "+  238,\n",
            "+  531,\n",
            "+  254,\n",
            "+  313,\n",
            "+  798,\n",
            "+  992,\n",
            "+  888,\n",
            "+  1396,\n",
            "+  1488,\n",
            "+  993,\n",
            "+  1752,\n",
            "+  3387,\n",
            "+  4487,\n",
            "+  3248,\n",
            "+  5476,\n",
            "+  8375,\n",
            "+  11814,\n",
            "+  4243,\n",
            "+  7827,\n",
            "+  6579,\n",
            "+  8179,\n",
            "+  9349,\n",
            "+  8180,\n",
            "-  0,\n",
            "-  0,\n",
            "-  0,\n",
            "-  0,\n",
            "-  0,\n",
            "-  0,\n",
            "-  0,\n",
            "-  0,\n",
            "-  0,\n",
            "-  0,\n",
            "-  0,\n",
            "-  0,\n",
            "-  0,\n",
            "-  0,\n",
            "-  0,\n",
            "-  0,\n",
            "-  0,\n",
            "-  0,\n",
            "-  0,\n",
            "-  0,\n",
            "-  0,\n",
            "-  0,\n",
            "-  0,\n",
            "-  0,\n",
            "-  0,\n",
            "-  0,\n",
            "-  0,\n",
            "-  0,\n",
            "-  0,\n",
            "-  0,\n",
            "-  0,\n",
            "-  0,\n",
            "-  0,\n",
            "-  0,\n",
            "-  0,\n",
            "-  0,\n",
            "-  0,\n",
            "   0,\n",
            "   0,\n",
            "   0,\n",
            "   0,\n",
            "   0,\n",
            "   0,\n",
            "   0,\n",
            "   0]\n",
            "\n",
            "----------------------------------------------------------------------\n",
            "Ran 1 test in 0.013s\n",
            "\n",
            "FAILED (failures=1)\n"
          ]
        },
        {
          "output_type": "execute_result",
          "data": {
            "text/plain": [
              "<unittest.main.TestProgram at 0x7f1ead518710>"
            ]
          },
          "metadata": {},
          "execution_count": 7
        }
      ]
    }
  ]
}