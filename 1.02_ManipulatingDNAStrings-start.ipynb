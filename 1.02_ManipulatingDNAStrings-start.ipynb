{
  "nbformat": 4,
  "nbformat_minor": 0,
  "metadata": {
    "kernelspec": {
      "display_name": "Python 3",
      "language": "python",
      "name": "python3"
    },
    "language_info": {
      "codemirror_mode": {
        "name": "ipython",
        "version": 3
      },
      "file_extension": ".py",
      "mimetype": "text/x-python",
      "name": "python",
      "nbconvert_exporter": "python",
      "pygments_lexer": "ipython3",
      "version": "3.5.4"
    },
    "colab": {
      "name": "1.02_ManipulatingDNAStrings-start.ipynb",
      "provenance": []
    }
  },
  "cells": [
    {
      "cell_type": "code",
      "metadata": {
        "id": "fvv3mHocq1KU",
        "outputId": "9d09497e-21c7-409f-97e7-c0a65ad7f912"
      },
      "source": [
        "# Write a function to get the longest common prefix of 2 dna strings\n",
        "def longestCommonPrefix(s1, s2):\n",
        "  pref=''\n",
        "  for i in range(len(s1)):\n",
        "    if s1[i] == s2[i]:\n",
        "      pref += s1[i]\n",
        "    else:\n",
        "      break\n",
        "\n",
        "  return pref\n",
        "longestCommonPrefix('ACCATTG', 'ACCAAGTC')"
      ],
      "execution_count": null,
      "outputs": [
        {
          "data": {
            "text/plain": [
              "'ACCA'"
            ]
          },
          "execution_count": 1,
          "metadata": {},
          "output_type": "execute_result"
        }
      ]
    },
    {
      "cell_type": "code",
      "metadata": {
        "id": "ZBKPqe47q1KZ",
        "outputId": "a8bdc135-34f8-4168-a158-21c497cd7e26"
      },
      "source": [
        "def match(s1, s2):\n",
        "    if not len(s1) == len(s2):\n",
        "        return False\n",
        "    for i in range(0, len(s1)):\n",
        "        if not s1 == s2:\n",
        "            return False\n",
        "    return True\n",
        "match('ACCATTG', 'ACCATTG')"
      ],
      "execution_count": null,
      "outputs": [
        {
          "data": {
            "text/plain": [
              "True"
            ]
          },
          "execution_count": 2,
          "metadata": {},
          "output_type": "execute_result"
        }
      ]
    },
    {
      "cell_type": "code",
      "metadata": {
        "id": "W-8_07ywq1Ka",
        "outputId": "5cda8a12-abec-4e3f-c921-685574c626b2"
      },
      "source": [
        "'ACCATTG' == 'ACCATTG'"
      ],
      "execution_count": null,
      "outputs": [
        {
          "data": {
            "text/plain": [
              "True"
            ]
          },
          "execution_count": 3,
          "metadata": {},
          "output_type": "execute_result"
        }
      ]
    },
    {
      "cell_type": "code",
      "metadata": {
        "collapsed": true,
        "id": "3oD1Uvn7q1Kb"
      },
      "source": [
        "complement = {'A': 'T', 'C': 'G', 'G': 'C', 'T': 'A'}"
      ],
      "execution_count": null,
      "outputs": []
    },
    {
      "cell_type": "code",
      "metadata": {
        "id": "5Diigsnqq1Kb",
        "outputId": "bb338e1f-a4d0-40a4-e078-0708b34edc43"
      },
      "source": [
        "complement['A']"
      ],
      "execution_count": null,
      "outputs": [
        {
          "data": {
            "text/plain": [
              "'T'"
            ]
          },
          "execution_count": 5,
          "metadata": {},
          "output_type": "execute_result"
        }
      ]
    },
    {
      "cell_type": "code",
      "metadata": {
        "id": "9NA2rM4Tq1Kc",
        "outputId": "cc054018-b6c8-408c-cc54-a76da01bebc2"
      },
      "source": [
        "complement['C']"
      ],
      "execution_count": null,
      "outputs": [
        {
          "data": {
            "text/plain": [
              "'G'"
            ]
          },
          "execution_count": 6,
          "metadata": {},
          "output_type": "execute_result"
        }
      ]
    },
    {
      "cell_type": "code",
      "metadata": {
        "id": "XabdNEf9q1Kd",
        "outputId": "d41c4591-fd1f-481d-cdba-06bf2bb8c2ea"
      },
      "source": [
        "# Write a function the generates the reverse complement of a given dna string, using the complement dictionary\n",
        "def reverseComplement(s):\n",
        "  comp=''\n",
        "\n",
        "  for i in range(len(s)):\n",
        "    comp += s[i]\n",
        "\n",
        "  return comp[::-1]\n",
        "reverseComplement('ACCATTG')"
      ],
      "execution_count": null,
      "outputs": [
        {
          "data": {
            "text/plain": [
              "'CAATGGT'"
            ]
          },
          "execution_count": 7,
          "metadata": {},
          "output_type": "execute_result"
        }
      ]
    },
    {
      "cell_type": "code",
      "metadata": {
        "id": "32DmmDN4q1Kd",
        "outputId": "db924248-d2c7-4a81-fe5a-e50be139af8e"
      },
      "source": [
        "import unittest\n",
        "class TestNotebook(unittest.TestCase):    \n",
        "    def test_notebook(self):\n",
        "        self.assertEquals(longestCommonPrefix('ACCATTG', 'ACCAAGTC'), 'ACCA')\n",
        "        self.assertEquals(reverseComplement('ACCATTG'), 'CAATGGT')\n",
        "        \n",
        "unittest.main(argv=[''], verbosity=2, exit=False)"
      ],
      "execution_count": null,
      "outputs": [
        {
          "name": "stderr",
          "output_type": "stream",
          "text": [
            "test_notebook (__main__.TestNotebook) ... ERROR\n",
            "\n",
            "======================================================================\n",
            "ERROR: test_notebook (__main__.TestNotebook)\n",
            "----------------------------------------------------------------------\n",
            "Traceback (most recent call last):\n",
            "  File \"<ipython-input-1-525f4a6f2317>\", line 4, in test_notebook\n",
            "    self.assertEquals(longestCommonPrefix('ACCATTG', 'ACCAAGTC'), 'ACCA')\n",
            "NameError: name 'longestCommonPrefix' is not defined\n",
            "\n",
            "----------------------------------------------------------------------\n",
            "Ran 1 test in 0.001s\n",
            "\n",
            "FAILED (errors=1)\n"
          ]
        },
        {
          "data": {
            "text/plain": [
              "<unittest.main.TestProgram at 0x10ee12f60>"
            ]
          },
          "execution_count": 1,
          "metadata": {},
          "output_type": "execute_result"
        }
      ]
    }
  ]
}