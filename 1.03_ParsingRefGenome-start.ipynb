{
  "nbformat": 4,
  "nbformat_minor": 0,
  "metadata": {
    "kernelspec": {
      "display_name": "Python 3",
      "language": "python",
      "name": "python3"
    },
    "language_info": {
      "codemirror_mode": {
        "name": "ipython",
        "version": 3
      },
      "file_extension": ".py",
      "mimetype": "text/x-python",
      "name": "python",
      "nbconvert_exporter": "python",
      "pygments_lexer": "ipython3",
      "version": "3.5.4"
    },
    "colab": {
      "name": "1.03_ParsingRefGenome-start.ipynb",
      "provenance": []
    }
  },
  "cells": [
    {
      "cell_type": "code",
      "metadata": {
        "id": "dphDw34zqBuL",
        "outputId": "09e3eae7-49ca-44cc-e92f-fa9d3a1974a6"
      },
      "source": [
        "# Following line downloads FASTA file containing the lambda phage reference genome\n",
        "# On Unix you could use wget to download the fasta file (just uncomment the following line)\n",
        "!wget http://d28rh4a8wq0iu5.cloudfront.net/ads1/data/lambda_virus.fa\n",
        "\n",
        "# On Windows you have to download the file manually into your working directory"
      ],
      "execution_count": null,
      "outputs": [
        {
          "name": "stdout",
          "output_type": "stream",
          "text": [
            "--2018-11-19 11:11:50--  http://d28rh4a8wq0iu5.cloudfront.net/ads1/data/lambda_virus.fa\n",
            "Auflösen des Hostnamens d28rh4a8wq0iu5.cloudfront.net (d28rh4a8wq0iu5.cloudfront.net)… 13.33.103.82, 13.33.103.155, 13.33.103.105, ...\n",
            "Verbindungsaufbau zu d28rh4a8wq0iu5.cloudfront.net (d28rh4a8wq0iu5.cloudfront.net)|13.33.103.82|:80 … verbunden.\n",
            "HTTP-Anforderung gesendet, auf Antwort wird gewartet … 200 OK\n",
            "Länge: 49270 (48K) [application/octet-stream]\n",
            "Wird in »lambda_virus.fa« gespeichert.\n",
            "\n",
            "lambda_virus.fa     100%[===================>]  48,12K  --.-KB/s    in 0,08s   \n",
            "\n",
            "2018-11-19 11:11:51 (577 KB/s) - »lambda_virus.fa« gespeichert [49270/49270]\n",
            "\n"
          ]
        }
      ]
    },
    {
      "cell_type": "code",
      "metadata": {
        "id": "8-vtJNloqBuO",
        "outputId": "a3130d9f-c0a6-466e-8148-71c5a5f38bfe",
        "colab": {
          "base_uri": "https://localhost:8080/"
        }
      },
      "source": [
        "# Write a function to read the Genome data from the file. Do not forget to ignore the header line\n",
        "def readGenome(filename):\n",
        "    genome = ''\n",
        "    # your code here\n",
        "    while open ('lambda_virus.fa', 'r')\n",
        "\n",
        "   \n",
        "\n",
        "    return genome\n",
        "genome = readGenome('lambda_virus.fa')\n",
        "genome[:100]"
      ],
      "execution_count": 22,
      "outputs": [
        {
          "output_type": "execute_result",
          "data": {
            "text/plain": [
              "[]"
            ]
          },
          "metadata": {},
          "execution_count": 22
        }
      ]
    },
    {
      "cell_type": "code",
      "metadata": {
        "id": "-H8vZ9VTqBuP",
        "outputId": "9ed6947c-17bd-40fb-f55b-d1d0c9bde8f7"
      },
      "source": [
        "# Count the number of occurences of each base in the variable genome\n",
        "\n",
        "print(counts)"
      ],
      "execution_count": null,
      "outputs": [
        {
          "name": "stdout",
          "output_type": "stream",
          "text": [
            "{'C': 11362, 'A': 12334, 'G': 12820, 'T': 11986}\n"
          ]
        }
      ]
    },
    {
      "cell_type": "code",
      "metadata": {
        "id": "ci6VKIsVqBuP",
        "outputId": "1ab12dfb-24ef-4d77-c449-f4c1ad9edf09"
      },
      "source": [
        "# You could also use the Counter class\n",
        "# see documentation: https://docs.python.org/2/library/collections.html#collections.Counter\n",
        "import collections\n",
        "collections.Counter(genome)"
      ],
      "execution_count": null,
      "outputs": [
        {
          "data": {
            "text/plain": [
              "Counter({'G': 12820, 'A': 12334, 'T': 11986, 'C': 11362})"
            ]
          },
          "execution_count": 4,
          "metadata": {},
          "output_type": "execute_result"
        }
      ]
    },
    {
      "cell_type": "code",
      "metadata": {
        "collapsed": true,
        "id": "khSf615HqBuP"
      },
      "source": [
        "import unittest\n",
        "class TestNotebook(unittest.TestCase):    \n",
        "    def test_notebook(self):\n",
        "        self.assertEquals(readGenome('lambda_virus.fa')[:100], 'GGGCGGCGACCTCGCGGGTTTTCGCTATTTATGAAAATTTTCCGGTTTAAGGCGTTTCCGTTCTTCTTCGTCATAACTTAATGTTTTTATTTAAAATACC')\n",
        "        self.assertEquals(len(readGenome('lambda_virus.fa')), 48502)\n",
        "        self.assertEquals(counts['T'],11986)\n",
        "        self.assertEquals(counts['G'],12820)\n",
        "        self.assertEquals(counts['A'],12334)\n",
        "        self.assertEquals(counts['C'],11362)\n",
        "        \n",
        "unittest.main(argv=[''], verbosity=2, exit=False)"
      ],
      "execution_count": null,
      "outputs": []
    }
  ]
}