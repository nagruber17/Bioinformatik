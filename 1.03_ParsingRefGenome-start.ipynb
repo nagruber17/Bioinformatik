{
  "nbformat": 4,
  "nbformat_minor": 0,
  "metadata": {
    "kernelspec": {
      "display_name": "Python 3",
      "language": "python",
      "name": "python3"
    },
    "language_info": {
      "codemirror_mode": {
        "name": "ipython",
        "version": 3
      },
      "file_extension": ".py",
      "mimetype": "text/x-python",
      "name": "python",
      "nbconvert_exporter": "python",
      "pygments_lexer": "ipython3",
      "version": "3.5.4"
    },
    "colab": {
      "name": "1.03_ParsingRefGenome-start.ipynb",
      "provenance": []
    }
  },
  "cells": [
    {
      "cell_type": "code",
      "metadata": {
        "id": "L8TNv6J75Tai",
        "outputId": "ab080378-f72e-4e09-b9d3-2cb9e87f5006",
        "colab": {
          "base_uri": "https://localhost:8080/"
        }
      },
      "source": [
        "# Following line downloads FASTA file containing the lambda phage reference genome\n",
        "# On Unix you could use wget to download the fasta file (just uncomment the following line)\n",
        "!wget http://d28rh4a8wq0iu5.cloudfront.net/ads1/data/lambda_virus.fa\n",
        "\n",
        "# On Windows you have to download the file manually into your working directory"
      ],
      "execution_count": 1,
      "outputs": [
        {
          "output_type": "stream",
          "name": "stdout",
          "text": [
            "--2021-11-23 08:28:46--  http://d28rh4a8wq0iu5.cloudfront.net/ads1/data/lambda_virus.fa\n",
            "Resolving d28rh4a8wq0iu5.cloudfront.net (d28rh4a8wq0iu5.cloudfront.net)... 108.156.78.214, 108.156.78.41, 108.156.78.80, ...\n",
            "Connecting to d28rh4a8wq0iu5.cloudfront.net (d28rh4a8wq0iu5.cloudfront.net)|108.156.78.214|:80... connected.\n",
            "HTTP request sent, awaiting response... 200 OK\n",
            "Length: 49270 (48K) [application/octet-stream]\n",
            "Saving to: ‘lambda_virus.fa’\n",
            "\n",
            "\rlambda_virus.fa       0%[                    ]       0  --.-KB/s               \rlambda_virus.fa     100%[===================>]  48.12K  --.-KB/s    in 0.02s   \n",
            "\n",
            "2021-11-23 08:28:46 (2.39 MB/s) - ‘lambda_virus.fa’ saved [49270/49270]\n",
            "\n"
          ]
        }
      ]
    },
    {
      "cell_type": "code",
      "metadata": {
        "id": "dE8RUL8s5Tak",
        "outputId": "7ad1adc8-3491-4011-ed53-21730b459daf",
        "colab": {
          "base_uri": "https://localhost:8080/",
          "height": 35
        }
      },
      "source": [
        "# Write a function to read the Genome data from the file. Do not forget to ignore the header line\n",
        "def readGenome(filename):\n",
        "    genome = ''\n",
        "    # your code here\n",
        "    return genome\n",
        "genome = readGenome('lambda_virus.fa')\n",
        "genome[:100]"
      ],
      "execution_count": 2,
      "outputs": [
        {
          "output_type": "execute_result",
          "data": {
            "application/vnd.google.colaboratory.intrinsic+json": {
              "type": "string"
            },
            "text/plain": [
              "''"
            ]
          },
          "metadata": {},
          "execution_count": 2
        }
      ]
    },
    {
      "cell_type": "code",
      "metadata": {
        "id": "r4KQUi0W5Tal",
        "outputId": "2ce5858f-facb-4663-9e48-1f0fb8e69061",
        "colab": {
          "base_uri": "https://localhost:8080/"
        }
      },
      "source": [
        "# Count the number of occurences of each base in the variable genome\n",
        "counts = {'A': 0, 'C': 0, 'G': 0, 'T': 0}\n",
        "for base in genome:\n",
        "    counts[base] += 1\n",
        "print(counts)"
      ],
      "execution_count": 4,
      "outputs": [
        {
          "output_type": "stream",
          "name": "stdout",
          "text": [
            "{'A': 0, 'C': 0, 'G': 0, 'T': 0}\n"
          ]
        }
      ]
    },
    {
      "cell_type": "code",
      "metadata": {
        "id": "YvsfKRVz5Tal",
        "outputId": "8a0f5458-f62a-4640-eb88-7aa9374c3f93",
        "colab": {
          "base_uri": "https://localhost:8080/"
        }
      },
      "source": [
        "# You could also use the Counter class\n",
        "# see documentation: https://docs.python.org/2/library/collections.html#collections.Counter\n",
        "import collections\n",
        "collections.Counter(genome)"
      ],
      "execution_count": 5,
      "outputs": [
        {
          "output_type": "execute_result",
          "data": {
            "text/plain": [
              "Counter()"
            ]
          },
          "metadata": {},
          "execution_count": 5
        }
      ]
    },
    {
      "cell_type": "code",
      "metadata": {
        "collapsed": true,
        "id": "2xR_NQCg5Tam",
        "outputId": "8b67953d-32fd-4351-b2d8-054846549c14",
        "colab": {
          "base_uri": "https://localhost:8080/"
        }
      },
      "source": [
        "import unittest\n",
        "class TestNotebook(unittest.TestCase):    \n",
        "    def test_notebook(self):\n",
        "        self.assertEquals(readGenome('lambda_virus.fa')[:100], 'GGGCGGCGACCTCGCGGGTTTTCGCTATTTATGAAAATTTTCCGGTTTAAGGCGTTTCCGTTCTTCTTCGTCATAACTTAATGTTTTTATTTAAAATACC')\n",
        "        self.assertEquals(len(readGenome('lambda_virus.fa')), 48502)\n",
        "        self.assertEquals(counts['T'],11986)\n",
        "        self.assertEquals(counts['G'],12820)\n",
        "        self.assertEquals(counts['A'],12334)\n",
        "        self.assertEquals(counts['C'],11362)\n",
        "        \n",
        "unittest.main(argv=[''], verbosity=2, exit=False)"
      ],
      "execution_count": 6,
      "outputs": [
        {
          "output_type": "stream",
          "name": "stderr",
          "text": [
            "test_notebook (__main__.TestNotebook) ... /usr/local/lib/python3.7/dist-packages/ipykernel_launcher.py:4: DeprecationWarning: Please use assertEqual instead.\n",
            "  after removing the cwd from sys.path.\n",
            "FAIL\n",
            "\n",
            "======================================================================\n",
            "FAIL: test_notebook (__main__.TestNotebook)\n",
            "----------------------------------------------------------------------\n",
            "Traceback (most recent call last):\n",
            "  File \"<ipython-input-6-788b7230f644>\", line 4, in test_notebook\n",
            "    self.assertEquals(readGenome('lambda_virus.fa')[:100], 'GGGCGGCGACCTCGCGGGTTTTCGCTATTTATGAAAATTTTCCGGTTTAAGGCGTTTCCGTTCTTCTTCGTCATAACTTAATGTTTTTATTTAAAATACC')\n",
            "AssertionError: '' != 'GGGCGGCGACCTCGCGGGTTTTCGCTATTTATGAAAATTTT[55 chars]TACC'\n",
            "+ GGGCGGCGACCTCGCGGGTTTTCGCTATTTATGAAAATTTTCCGGTTTAAGGCGTTTCCGTTCTTCTTCGTCATAACTTAATGTTTTTATTTAAAATACC\n",
            "\n",
            "----------------------------------------------------------------------\n",
            "Ran 1 test in 0.005s\n",
            "\n",
            "FAILED (failures=1)\n"
          ]
        },
        {
          "output_type": "execute_result",
          "data": {
            "text/plain": [
              "<unittest.main.TestProgram at 0x7f92c34d2450>"
            ]
          },
          "metadata": {},
          "execution_count": 6
        }
      ]
    }
  ]
}